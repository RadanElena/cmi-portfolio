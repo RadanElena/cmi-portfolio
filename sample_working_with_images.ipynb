{
 "metadata": {
  "language_info": {
   "codemirror_mode": {
    "name": "ipython",
    "version": 3
   },
   "file_extension": ".py",
   "mimetype": "text/x-python",
   "name": "python",
   "nbconvert_exporter": "python",
   "pygments_lexer": "ipython3",
   "version": "3.8.3-final"
  },
  "orig_nbformat": 2,
  "kernelspec": {
   "name": "python3",
   "display_name": "Python 3.8.3 64-bit ('base': conda)",
   "metadata": {
    "interpreter": {
     "hash": "dca0ade3e726a953b501b15e8e990130d2b7799f14cfd9f4271676035ebe5511"
    }
   }
  }
 },
 "nbformat": 4,
 "nbformat_minor": 2,
 "cells": [
  {
   "cell_type": "code",
   "execution_count": 1,
   "metadata": {},
   "outputs": [],
   "source": [
    "from PIL import Image \n",
    "import numpy as np\n",
    "import os "
   ]
  },
  {
   "cell_type": "code",
   "execution_count": 2,
   "metadata": {},
   "outputs": [],
   "source": [
    "def load_image(filepath):\n",
    "    im = Image.open(filepath)\n",
    "    im = im.convert('L')\n",
    "    arr = np.asarray(im)\n",
    "    return arr\n",
    "\n",
    "def load_images(directory):\n",
    "    files = os.listdir(directory)\n",
    "    images = []\n",
    "    for filename in files:\n",
    "        filepath = f\"{directory}/{filename}\"\n",
    "        try:\n",
    "            image = load_image(filepath)\n",
    "            images.append(image)\n",
    "        except Exception as e:\n",
    "            print(e)\n",
    "            print(f\"--Failed to load file: {filename}\")\n",
    "    return images"
   ]
  },
  {
   "cell_type": "code",
   "execution_count": 3,
   "metadata": {},
   "outputs": [],
   "source": [
    "yes_images_directory = '/Users/luchicila/Downloads/archive-2/yes'\n",
    "no_images_directory = '/Users/luchicila/Downloads/archive-2/no'\n",
    "\n",
    "no_images = load_images(no_images_directory)\n",
    "yes_images = load_images(yes_images_directory)"
   ]
  },
  {
   "cell_type": "code",
   "execution_count": 4,
   "metadata": {},
   "outputs": [],
   "source": [
    "im_dims = []\n",
    "for im in no_images:\n",
    "    im_dims.append(im.shape)\n",
    "for im in yes_images:\n",
    "    im_dims.append(im.shape)\n",
    "im_dims = np.asarray(im_dims)\n",
    "max_dims = np.max(im_dims, axis=0)\n",
    "\n",
    "def resize_images(images, max_dims):\n",
    "    im_size = (int(max_dims[0] * 0.3), int(max_dims[1] * 0.3))\n",
    "    for i in range(len(images)):\n",
    "        im = Image.fromarray(images[i])\n",
    "        # im = im.resize((max_dims[1], max_dims[0]))\n",
    "        im = im.resize((im_size[1], im_size[0]))\n",
    "        images[i] = np.asarray(im)\n",
    "    return images \n",
    "\n",
    "no_images = resize_images(no_images, max_dims)\n",
    "yes_images = resize_images(yes_images, max_dims)"
   ]
  },
  {
   "cell_type": "code",
   "execution_count": 5,
   "metadata": {},
   "outputs": [
    {
     "output_type": "execute_result",
     "data": {
      "text/plain": [
       "((253, 428, 576), (253,))"
      ]
     },
     "metadata": {},
     "execution_count": 5
    }
   ],
   "source": [
    "no_labes = np.zeros((len(no_images),))\n",
    "yes_labes = np.ones((len(yes_images),))\n",
    "X = np.concatenate([no_images, yes_images])\n",
    "y = np.concatenate([no_labes, yes_labes])\n",
    "X.shape, y.shape"
   ]
  },
  {
   "cell_type": "code",
   "execution_count": 6,
   "metadata": {},
   "outputs": [
    {
     "output_type": "execute_result",
     "data": {
      "text/plain": [
       "((202, 428, 576), (202,))"
      ]
     },
     "metadata": {},
     "execution_count": 6
    }
   ],
   "source": [
    "from sklearn.model_selection import train_test_split\n",
    "X_train, X_test, y_train, y_test = train_test_split(X, y, test_size=0.2, random_state=0)\n",
    "X_train.shape, y_train.shape"
   ]
  },
  {
   "cell_type": "code",
   "execution_count": 7,
   "metadata": {},
   "outputs": [],
   "source": [
    "from tensorflow.keras.utils import to_categorical\n",
    "y_train = to_categorical(y_train)\n",
    "y_test = to_categorical(y_test)\n",
    "y_train[0], y_test[0]\n",
    "\n",
    "X_train = X_train.reshape(X_train.shape[0], X_train.shape[1], X_train.shape[2], 1)\n",
    "X_test = X_test.reshape(X_test.shape[0], X_test.shape[1], X_test.shape[2], 1)"
   ]
  },
  {
   "cell_type": "code",
   "execution_count": 15,
   "metadata": {},
   "outputs": [
    {
     "output_type": "stream",
     "name": "stdout",
     "text": [
      "Epoch 1/10\n",
      "7/7 [==============================] - 55s 8s/step - loss: 2500.4861 - accuracy: 0.5594\n",
      "Epoch 2/10\n",
      "7/7 [==============================] - 52s 7s/step - loss: 29.5454 - accuracy: 0.6683\n",
      "Epoch 3/10\n",
      "7/7 [==============================] - 55s 8s/step - loss: 1.1755 - accuracy: 0.9208\n",
      "Epoch 4/10\n",
      "7/7 [==============================] - 55s 8s/step - loss: 0.4129 - accuracy: 0.9703\n",
      "Epoch 5/10\n",
      "7/7 [==============================] - 56s 8s/step - loss: 0.1433 - accuracy: 0.9752\n",
      "Epoch 6/10\n",
      "7/7 [==============================] - 55s 8s/step - loss: 0.0688 - accuracy: 0.9901\n",
      "Epoch 7/10\n",
      "7/7 [==============================] - 56s 8s/step - loss: 0.0506 - accuracy: 0.9950\n",
      "Epoch 8/10\n",
      "7/7 [==============================] - 56s 8s/step - loss: 0.0378 - accuracy: 0.9901\n",
      "Epoch 9/10\n",
      "7/7 [==============================] - 57s 8s/step - loss: 0.0273 - accuracy: 0.9802\n",
      "Epoch 10/10\n",
      "7/7 [==============================] - 55s 8s/step - loss: 0.0238 - accuracy: 0.9901\n"
     ]
    },
    {
     "output_type": "execute_result",
     "data": {
      "text/plain": [
       "<keras.callbacks.History at 0x7fbac355f340>"
      ]
     },
     "metadata": {},
     "execution_count": 15
    }
   ],
   "source": [
    "from keras.models import Sequential\n",
    "from keras.layers import Dense, Conv2D, Flatten, Dropout\n",
    "\n",
    "input_size = (X_train.shape[1], X_train.shape[2], X_train.shape[3])\n",
    "model = Sequential()\n",
    "\n",
    "layer = Conv2D(64, kernel_size=3, activation='relu', input_shape=input_size)\n",
    "model.add(layer)\n",
    "\n",
    "layer = Conv2D(32, kernel_size=3, activation='relu')\n",
    "model.add(layer)\n",
    "\n",
    "layer = Dropout(0.2)\n",
    "model.add(layer)\n",
    "\n",
    "layer = Flatten()\n",
    "model.add(layer)\n",
    "\n",
    "layer = Dense(2, activation='softmax')\n",
    "model.add(layer)\n",
    "\n",
    "model.compile(optimizer='adam', loss='categorical_crossentropy', metrics=['accuracy'])\n",
    "\n",
    "model.fit(X_train, y_train, epochs=10)"
   ]
  },
  {
   "cell_type": "code",
   "execution_count": 16,
   "metadata": {},
   "outputs": [],
   "source": [
    "predictions = model.predict(X_test)\n",
    "y_test_pred = []\n",
    "for i in range(len(predictions)):\n",
    "    pred_class = np.argmax(predictions[i])\n",
    "    y_test_pred.append(pred_class)\n",
    "\n",
    "y_test_class = []\n",
    "for i in range(len(y_test)):\n",
    "    y_class = np.argmax(y_test[i])\n",
    "    y_test_class.append(y_class)"
   ]
  },
  {
   "cell_type": "code",
   "execution_count": 17,
   "metadata": {},
   "outputs": [
    {
     "output_type": "stream",
     "name": "stdout",
     "text": [
      "Test accuracy: 0.6666666666666666\n"
     ]
    }
   ],
   "source": [
    "from sklearn.metrics import plot_confusion_matrix, accuracy_score\n",
    "\n",
    "acc = accuracy_score(y_true=y_test_class, y_pred=y_test_pred)\n",
    "print(f\"Test accuracy: {acc}\")"
   ]
  },
  {
   "cell_type": "code",
   "execution_count": 18,
   "metadata": {},
   "outputs": [
    {
     "output_type": "execute_result",
     "data": {
      "text/plain": [
       "array([[10,  5],\n",
       "       [12, 24]])"
      ]
     },
     "metadata": {},
     "execution_count": 18
    }
   ],
   "source": [
    "from sklearn.metrics import confusion_matrix\n",
    "confusion_matrix(y_test_class, y_test_pred)"
   ]
  },
  {
   "cell_type": "code",
   "execution_count": 20,
   "metadata": {},
   "outputs": [
    {
     "output_type": "execute_result",
     "data": {
      "text/plain": [
       "0.23529411764705882"
      ]
     },
     "metadata": {},
     "execution_count": 20
    }
   ],
   "source": [
    "12 / len(y_test_class)"
   ]
  },
  {
   "cell_type": "code",
   "execution_count": null,
   "metadata": {},
   "outputs": [],
   "source": []
  }
 ]
}